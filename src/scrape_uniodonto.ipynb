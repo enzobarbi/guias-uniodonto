{
 "cells": [
  {
   "cell_type": "markdown",
   "id": "e405716b",
   "metadata": {},
   "source": [
    "# Comandos selenium para acessar o site"
   ]
  },
  {
   "cell_type": "code",
   "execution_count": 1,
   "id": "9d26affb",
   "metadata": {},
   "outputs": [],
   "source": [
    "from dotenv import load_dotenv\n",
    "import os \n",
    "load_dotenv()\n",
    "\n",
    "CPF_TALUDE = str(os.getenv(\"CPF_TALUDE\"))\n",
    "COD_UNIODONTO = str(os.getenv(\"COD_UNIODONTO\"))\n",
    "PASSWORD = str(os.getenv(\"PASSWORD\"))"
   ]
  },
  {
   "cell_type": "code",
   "execution_count": 2,
   "id": "738d5f59",
   "metadata": {},
   "outputs": [],
   "source": [
    "from selenium import webdriver\n",
    "from selenium.webdriver.chrome.options import Options\n",
    "\n",
    "opts = Options()\n",
    "# opts.add_argument(\"--headless=new\")  # remova se quiser ver a janela\n",
    "opts.add_argument(\"--window-size=1366,768\")\n",
    "opts.add_experimental_option(\"detach\", True)\n",
    "\n",
    "driver = webdriver.Chrome(options=opts)  # Selenium Manager resolve o driver\n"
   ]
  },
  {
   "cell_type": "code",
   "execution_count": 3,
   "id": "08664adc",
   "metadata": {},
   "outputs": [],
   "source": [
    "driver.get(\"https://www.uniodontosc.coop.br/cooperados/index.php\")"
   ]
  },
  {
   "cell_type": "code",
   "execution_count": 4,
   "id": "afdb5731",
   "metadata": {},
   "outputs": [],
   "source": [
    "from selenium.webdriver.common.by import By\n",
    "from time import sleep"
   ]
  },
  {
   "cell_type": "code",
   "execution_count": 5,
   "id": "248fb134",
   "metadata": {},
   "outputs": [],
   "source": [
    "sleep(3)"
   ]
  },
  {
   "cell_type": "code",
   "execution_count": 6,
   "id": "39c18871",
   "metadata": {},
   "outputs": [],
   "source": [
    "cpf_bar = driver.find_element(By.ID, 'campoCpf')\n",
    "sleep(1)\n",
    "cod_bar = driver.find_element(By.ID, 'campoCodigo')\n",
    "sleep(1)\n",
    "paswd_bar = driver.find_element(By.ID, 'campoSenha')"
   ]
  },
  {
   "cell_type": "code",
   "execution_count": 7,
   "id": "20cb86e2",
   "metadata": {},
   "outputs": [],
   "source": [
    "for numero in CPF_TALUDE:\n",
    "    sleep(0.5)\n",
    "    cpf_bar.send_keys(numero)\n"
   ]
  },
  {
   "cell_type": "code",
   "execution_count": 8,
   "id": "8a0036ab",
   "metadata": {},
   "outputs": [],
   "source": [
    "cod_bar.send_keys(COD_UNIODONTO)"
   ]
  },
  {
   "cell_type": "code",
   "execution_count": 9,
   "id": "aded8e76",
   "metadata": {},
   "outputs": [],
   "source": [
    "paswd_bar.send_keys(PASSWORD)"
   ]
  },
  {
   "cell_type": "code",
   "execution_count": 10,
   "id": "e803316c",
   "metadata": {},
   "outputs": [],
   "source": [
    "sleep(3)"
   ]
  },
  {
   "cell_type": "code",
   "execution_count": 11,
   "id": "6538bed3",
   "metadata": {},
   "outputs": [],
   "source": [
    "login_button = driver.find_element(By.XPATH, '/html/body/div[2]/section/div[3]/div/div/div/div/form/div/div[4]/div/div/button')"
   ]
  },
  {
   "cell_type": "code",
   "execution_count": 12,
   "id": "3bfb8eab",
   "metadata": {},
   "outputs": [],
   "source": [
    "login_button.click()"
   ]
  },
  {
   "cell_type": "code",
   "execution_count": 13,
   "id": "8e76ddc7",
   "metadata": {},
   "outputs": [],
   "source": [
    "sleep(1.5)"
   ]
  },
  {
   "cell_type": "code",
   "execution_count": 14,
   "id": "ae2f6946",
   "metadata": {},
   "outputs": [],
   "source": [
    "close_add_button = driver.find_element(By.XPATH, '/html/body/div[1]/div[1]/div/a')"
   ]
  },
  {
   "cell_type": "code",
   "execution_count": 15,
   "id": "4dd182f7",
   "metadata": {},
   "outputs": [],
   "source": [
    "close_add_button.click()"
   ]
  },
  {
   "cell_type": "code",
   "execution_count": 16,
   "id": "7cf9bc41",
   "metadata": {},
   "outputs": [],
   "source": [
    "sleep(1.5)"
   ]
  },
  {
   "cell_type": "code",
   "execution_count": 17,
   "id": "92701215",
   "metadata": {},
   "outputs": [],
   "source": [
    "production_button = driver.find_element(By.XPATH, '/html/body/div[1]/div[3]/div[2]/div/div[4]/nav/ul/li[6]/a')"
   ]
  },
  {
   "cell_type": "code",
   "execution_count": 18,
   "id": "d751cfaf",
   "metadata": {},
   "outputs": [],
   "source": [
    "production_button.click()"
   ]
  },
  {
   "cell_type": "code",
   "execution_count": 19,
   "id": "613522f4",
   "metadata": {},
   "outputs": [],
   "source": [
    "sleep(0.5)"
   ]
  },
  {
   "cell_type": "code",
   "execution_count": 20,
   "id": "59dcc1f6",
   "metadata": {},
   "outputs": [],
   "source": [
    "lote_generation = driver.find_element(By.XPATH, '/html/body/div[1]/div[3]/div[2]/div/div[4]/nav/ul/li[6]/ul/li[1]/a')"
   ]
  },
  {
   "cell_type": "code",
   "execution_count": 21,
   "id": "65b63736",
   "metadata": {},
   "outputs": [],
   "source": [
    "lote_generation.click()"
   ]
  },
  {
   "cell_type": "code",
   "execution_count": 22,
   "id": "98886c56",
   "metadata": {},
   "outputs": [],
   "source": [
    "sleep(2)"
   ]
  },
  {
   "cell_type": "code",
   "execution_count": 23,
   "id": "83f85238",
   "metadata": {},
   "outputs": [],
   "source": [
    "empresa_lote = driver.find_element(By.ID, 'empresaLote')"
   ]
  },
  {
   "cell_type": "code",
   "execution_count": 24,
   "id": "b1639ba3",
   "metadata": {},
   "outputs": [],
   "source": [
    "empresa_lote.click()"
   ]
  },
  {
   "cell_type": "code",
   "execution_count": 25,
   "id": "af320f38",
   "metadata": {},
   "outputs": [],
   "source": [
    "all_option = driver.find_element(By.XPATH, '/html/body/form/div/div/table/tbody/tr/td/table/tbody/tr[2]/td[3]/select/option[12]')"
   ]
  },
  {
   "cell_type": "code",
   "execution_count": 26,
   "id": "327cc01c",
   "metadata": {},
   "outputs": [],
   "source": [
    "all_option.click()"
   ]
  },
  {
   "cell_type": "code",
   "execution_count": 27,
   "id": "5a867abd",
   "metadata": {},
   "outputs": [],
   "source": [
    "month_year = driver.find_element(By.ID, 'mesAno')"
   ]
  },
  {
   "cell_type": "code",
   "execution_count": 28,
   "id": "92dc9d4f",
   "metadata": {},
   "outputs": [],
   "source": [
    "from datetime import datetime\n",
    "\n",
    "agora = datetime.now()\n",
    "mes_ano = f\"{agora.month:02d}/{agora.year}\".replace(\"/\", \"\")  # zero à esquerda no mês\n",
    "mes_ano = \"082025\" #TESTE COM A JULIA"
   ]
  },
  {
   "cell_type": "code",
   "execution_count": 29,
   "id": "61d23622",
   "metadata": {},
   "outputs": [],
   "source": [
    "month_year.clear()\n",
    "month_year.click()\n",
    "sleep(1.5)\n",
    "for n in mes_ano:\n",
    "    sleep(1)\n",
    "    month_year.send_keys(int(n))"
   ]
  },
  {
   "cell_type": "code",
   "execution_count": 30,
   "id": "ae63299d",
   "metadata": {},
   "outputs": [],
   "source": [
    "search = driver.find_element(By.ID, 'pesquisarGuia')"
   ]
  },
  {
   "cell_type": "code",
   "execution_count": 31,
   "id": "6cb077e4",
   "metadata": {},
   "outputs": [],
   "source": [
    "search.click()"
   ]
  },
  {
   "cell_type": "markdown",
   "id": "314dd6cf",
   "metadata": {},
   "source": [
    "# Logica para achar o nome e o valor certo"
   ]
  },
  {
   "cell_type": "code",
   "execution_count": 32,
   "id": "662fb6ca",
   "metadata": {},
   "outputs": [],
   "source": [
    "file_path = \"/Users/enzobarbi/Development/github/guias-uniodonto/fotos/2025-10-05_15-39-06 - Julia_Moraes_De_Souza_Faria - R$ 799,70 - GTO.jpg\"\n",
    "file_name = os.path.basename(file_path)  # Extrair nome do arquivo do caminho"
   ]
  },
  {
   "cell_type": "code",
   "execution_count": 33,
   "id": "8ca6e7d6",
   "metadata": {},
   "outputs": [],
   "source": [
    "data = file_name.split(\" - \")\n",
    "data_name = data[1].replace(\"_\", \" \")\n",
    "data_price = data[2].split(\" \")[1]\n",
    "data_anexo = data[3].split(\".\")[0]\n",
    "\n",
    "NOME = data_name\n",
    "PRECO = data_price\n",
    "ANEXO = data_anexo"
   ]
  },
  {
   "cell_type": "code",
   "execution_count": 34,
   "id": "70ef31cc",
   "metadata": {},
   "outputs": [
    {
     "name": "stdout",
     "output_type": "stream",
     "text": [
      "Julia Moraes De Souza Faria\n",
      "799,70\n",
      "GTO\n"
     ]
    }
   ],
   "source": [
    "print(NOME)\n",
    "print(PRECO)\n",
    "print(ANEXO)"
   ]
  },
  {
   "cell_type": "code",
   "execution_count": 35,
   "id": "9b4c863b",
   "metadata": {},
   "outputs": [],
   "source": [
    "from selenium.webdriver.support.ui import WebDriverWait\n",
    "from selenium.webdriver.support import expected_conditions as EC"
   ]
  },
  {
   "cell_type": "code",
   "execution_count": 36,
   "id": "7254b052",
   "metadata": {},
   "outputs": [],
   "source": [
    "\n",
    "wait = WebDriverWait(driver, 20)\n",
    "\n",
    "# Espera a tabela existir\n",
    "wait.until(EC.presence_of_element_located((By.ID, \"tabelaListagem\")))\n",
    "\n",
    "# Localiza a linha que atende às duas condições:\n",
    "# - td[4] contém um <a> com o texto do nome (normalizado)\n",
    "# - existe na mesma linha um <td> cujo texto seja exatamente o preço\n",
    "row_xpath = (\n",
    "    \"//table[@id='tabelaListagem']//tr[\"\n",
    "    \"  td[4]//a[normalize-space()=$nome] and \"\n",
    "    \"  .//td[normalize-space()=$preco]\"\n",
    "    \"]\"\n",
    ")\n",
    "\n",
    "# Selenium não tem binding nativo para variáveis no XPath, então interpolamos:\n",
    "row = driver.find_element(\n",
    "    By.XPATH,\n",
    "    row_xpath.replace(\"$nome\", f\"'{NOME}'\").replace(\"$preco\", f\"'{PRECO}'\")\n",
    ")\n",
    "\n",
    "# Agora pegue o link da coluna 4 e clique\n",
    "link = row.find_element(By.XPATH, \"td[4]//a\")\n",
    "driver.execute_script(\"arguments[0].scrollIntoView({block:'center'});\", link)\n",
    "\n",
    "try:\n",
    "    wait.until(EC.element_to_be_clickable(link)).click()\n",
    "except Exception:\n",
    "    # se overlay/interceptação atrapalhar, força via JS\n",
    "    driver.execute_script(\"arguments[0].click();\", link)\n"
   ]
  },
  {
   "cell_type": "code",
   "execution_count": 37,
   "id": "2796f14a",
   "metadata": {},
   "outputs": [],
   "source": [
    "sleep(3)"
   ]
  },
  {
   "cell_type": "code",
   "execution_count": 38,
   "id": "75d24f80",
   "metadata": {},
   "outputs": [],
   "source": [
    "rx_button = driver.find_element(By.ID, \"AnexarRx1\")\n",
    "gto_button = driver.find_element(By.ID, \"AnexarRx2\")"
   ]
  },
  {
   "cell_type": "code",
   "execution_count": 39,
   "id": "936e94a2",
   "metadata": {},
   "outputs": [],
   "source": [
    "if ANEXO == \"GTO\":\n",
    "    gto_button.click()\n",
    "else:\n",
    "    print(\"Implementar o RX\")"
   ]
  },
  {
   "cell_type": "code",
   "execution_count": 40,
   "id": "ae84594a",
   "metadata": {},
   "outputs": [
    {
     "name": "stdout",
     "output_type": "stream",
     "text": [
      "SRC do iframe: https://www.sisoweb.coop.br/web/cooperados/imagens.lote.guias.php?height=550&width=900&modal=true&controle=5084960&lote=0&baixada=f&liberada=f&menu=2&\n"
     ]
    }
   ],
   "source": [
    "from urllib.parse import urljoin\n",
    "from selenium.webdriver.common.by import By\n",
    "from selenium.webdriver.support.ui import WebDriverWait\n",
    "from selenium.webdriver.support import expected_conditions as EC\n",
    "\n",
    "wait = WebDriverWait(driver, 20)\n",
    "\n",
    "# acha o iframe do Thickbox\n",
    "iframe = wait.until(EC.presence_of_element_located((\n",
    "    By.CSS_SELECTOR, \"iframe#TB_iframeContent, iframe[src*='imagens_lote_guias.php']\"\n",
    ")))\n",
    "\n",
    "src = iframe.get_attribute(\"src\")  # pode vir relativo\n",
    "src_abs = urljoin(driver.current_url, src)\n",
    "print(\"SRC do iframe:\", src_abs)\n",
    "\n",
    "# navega direto na URL do iframe (fora de iframe, tela cheia)\n",
    "driver.get(src_abs)\n"
   ]
  },
  {
   "cell_type": "code",
   "execution_count": 41,
   "id": "723d39ea",
   "metadata": {},
   "outputs": [],
   "source": [
    "codigo = src_abs.split(\"=\")[4].split(\"&\")[0]"
   ]
  },
  {
   "cell_type": "code",
   "execution_count": 42,
   "id": "481dca78",
   "metadata": {},
   "outputs": [
    {
     "data": {
      "text/plain": [
       "'5084960'"
      ]
     },
     "execution_count": 42,
     "metadata": {},
     "output_type": "execute_result"
    }
   ],
   "source": [
    "codigo"
   ]
  },
  {
   "cell_type": "code",
   "execution_count": 43,
   "id": "86c356ac",
   "metadata": {},
   "outputs": [
    {
     "name": "stdout",
     "output_type": "stream",
     "text": [
      "PHPSESSID: 33aa0lpj8sh7734co3pf0sl8ue\n"
     ]
    }
   ],
   "source": [
    "phpsessid = driver.get_cookie('PHPSESSID')['value']\n",
    "print(\"PHPSESSID:\", phpsessid)"
   ]
  },
  {
   "cell_type": "code",
   "execution_count": 44,
   "id": "14754643",
   "metadata": {},
   "outputs": [],
   "source": [
    "import requests\n",
    "import os\n",
    "\n",
    "# Determinar content-type baseado na extensão\n",
    "file_ext = os.path.splitext(file_name)[1].lower()\n",
    "content_types = {\n",
    "    '.jpg': 'image/jpeg',\n",
    "    '.jpeg': 'image/jpeg', \n",
    "    '.png': 'image/png',\n",
    "    '.pdf': 'application/pdf',\n",
    "    '.doc': 'application/msword',\n",
    "    '.docx': 'application/vnd.openxmlformats-officedocument.wordprocessingml.document'\n",
    "}\n",
    "content_type = content_types.get(file_ext, 'application/octet-stream')\n",
    "\n",
    "# URL e configurações\n",
    "url = \"https://www.sisoweb.coop.br/web/cooperados/upload.process.imagens.php\"\n",
    "\n",
    "headers = {\n",
    "    'accept': 'application/json, text/javascript, */*; q=0.01',\n",
    "    'x-requested-with': 'XMLHttpRequest',\n",
    "    'referer': f'https://www.sisoweb.coop.br/web/cooperados/imagens.lote.guias.php?height=550&width=900&modal=true&controle={codigo}&lote=0&baixada=f&liberada=f&menu=2&'\n",
    "}\n",
    "\n",
    "cookies = {\n",
    "    'PHPSESSID': phpsessid, \n",
    "    'loginCooperados': '1'\n",
    "}\n",
    "\n",
    "data = {\n",
    "    'controle': str(codigo),\n",
    "    'baixada': 'f',\n",
    "    'liberada': 'f',\n",
    "    'pendente': 'f'\n",
    "}\n",
    "    \n",
    "# FAZER UPLOAD\n",
    "with open(file_path, 'rb') as f:\n",
    "    files = {\n",
    "        'files[]': (file_name, f, content_type)\n",
    "    }\n",
    "    \n",
    "    response = requests.post(url, data=data, files=files, headers=headers, cookies=cookies, timeout=120)\n",
    "    "
   ]
  },
  {
   "cell_type": "code",
   "execution_count": 45,
   "id": "06f67caa",
   "metadata": {},
   "outputs": [],
   "source": [
    "sleep(3)"
   ]
  },
  {
   "cell_type": "markdown",
   "id": "eba84002",
   "metadata": {},
   "source": [
    "# ENVIAR FORM"
   ]
  },
  {
   "cell_type": "code",
   "execution_count": 46,
   "id": "b6379b1a",
   "metadata": {},
   "outputs": [],
   "source": [
    "form = driver.find_element(By.ID, 'frmLista')"
   ]
  },
  {
   "cell_type": "code",
   "execution_count": 47,
   "id": "17eb3702",
   "metadata": {},
   "outputs": [],
   "source": [
    "procedimento = form.find_element(By.ID, 'procedimento3920063')\n",
    "procedimento.click()\n",
    "sleep(1)\n",
    "gtoprocedimento = form.find_element(By.XPATH, '/html/body/div/div/div/div[4]/div[2]/form/div[2]/table/tbody/tr[2]/td[2]/select/option[2]')\n",
    "gtoprocedimento.click()"
   ]
  },
  {
   "cell_type": "code",
   "execution_count": 48,
   "id": "3ec4e50c",
   "metadata": {},
   "outputs": [],
   "source": [
    "# concluir = driver.find_element(By.ID, 'btnEnviarArquivoImagem')\n",
    "# concluir.click()"
   ]
  },
  {
   "cell_type": "code",
   "execution_count": null,
   "id": "b89b1fe5",
   "metadata": {},
   "outputs": [],
   "source": [
    "sleep(3)"
   ]
  },
  {
   "cell_type": "code",
   "execution_count": 49,
   "id": "2da65d6d",
   "metadata": {},
   "outputs": [],
   "source": [
    "driver.get(\"https://www.sisoweb.coop.br/web/cooperados/gerar.lote.php#\")"
   ]
  },
  {
   "cell_type": "markdown",
   "id": "44100c8d",
   "metadata": {},
   "source": [
    "Repetir a parte que digita a data e procura a pessoa com base do nome\n",
    "\n",
    "* Looping para os arquivos, coleta de nome "
   ]
  }
 ],
 "metadata": {
  "kernelspec": {
   "display_name": "guias-uniodonto-R1B_ZwXg",
   "language": "python",
   "name": "python3"
  },
  "language_info": {
   "codemirror_mode": {
    "name": "ipython",
    "version": 3
   },
   "file_extension": ".py",
   "mimetype": "text/x-python",
   "name": "python",
   "nbconvert_exporter": "python",
   "pygments_lexer": "ipython3",
   "version": "3.12.10"
  }
 },
 "nbformat": 4,
 "nbformat_minor": 5
}
