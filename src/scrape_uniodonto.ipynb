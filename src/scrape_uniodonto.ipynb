{
 "cells": [
  {
   "cell_type": "markdown",
   "id": "e405716b",
   "metadata": {},
   "source": [
    "# Comandos selenium para acessar o site"
   ]
  },
  {
   "cell_type": "code",
   "execution_count": null,
   "id": "9d26affb",
   "metadata": {},
   "outputs": [],
   "source": [
    "from dotenv import load_dotenv\n",
    "import os \n",
    "load_dotenv()\n",
    "\n",
    "CPF_TALUDE = str(os.getenv(\"CPF_TALUDE\"))\n",
    "COD_UNIODONTO = str(os.getenv(\"COD_UNIODONTO\"))\n",
    "PASSWORD = str(os.getenv(\"PASSWORD\"))"
   ]
  },
  {
   "cell_type": "code",
   "execution_count": null,
   "id": "738d5f59",
   "metadata": {},
   "outputs": [],
   "source": [
    "from selenium import webdriver\n",
    "from selenium.webdriver.chrome.options import Options\n",
    "\n",
    "opts = Options()\n",
    "# opts.add_argument(\"--headless=new\")  # remova se quiser ver a janela\n",
    "opts.add_argument(\"--window-size=1366,768\")\n",
    "opts.add_experimental_option(\"detach\", True)\n",
    "\n",
    "driver = webdriver.Chrome(options=opts)  # Selenium Manager resolve o driver\n"
   ]
  },
  {
   "cell_type": "code",
   "execution_count": null,
   "id": "08664adc",
   "metadata": {},
   "outputs": [],
   "source": [
    "driver.get(\"https://www.uniodontosc.coop.br/cooperados/index.php\")"
   ]
  },
  {
   "cell_type": "code",
   "execution_count": null,
   "id": "afdb5731",
   "metadata": {},
   "outputs": [],
   "source": [
    "from selenium.webdriver.common.by import By\n",
    "from time import sleep"
   ]
  },
  {
   "cell_type": "code",
   "execution_count": null,
   "id": "248fb134",
   "metadata": {},
   "outputs": [],
   "source": [
    "sleep(3)"
   ]
  },
  {
   "cell_type": "code",
   "execution_count": null,
   "id": "39c18871",
   "metadata": {},
   "outputs": [],
   "source": [
    "cpf_bar = driver.find_element(By.ID, 'campoCpf')\n",
    "sleep(1)\n",
    "cod_bar = driver.find_element(By.ID, 'campoCodigo')\n",
    "sleep(1)\n",
    "paswd_bar = driver.find_element(By.ID, 'campoSenha')"
   ]
  },
  {
   "cell_type": "code",
   "execution_count": null,
   "id": "20cb86e2",
   "metadata": {},
   "outputs": [],
   "source": [
    "for numero in CPF_TALUDE:\n",
    "    sleep(0.5)\n",
    "    cpf_bar.send_keys(numero)\n"
   ]
  },
  {
   "cell_type": "code",
   "execution_count": null,
   "id": "8a0036ab",
   "metadata": {},
   "outputs": [],
   "source": [
    "cod_bar.send_keys(COD_UNIODONTO)"
   ]
  },
  {
   "cell_type": "code",
   "execution_count": null,
   "id": "aded8e76",
   "metadata": {},
   "outputs": [],
   "source": [
    "paswd_bar.send_keys(PASSWORD)"
   ]
  },
  {
   "cell_type": "code",
   "execution_count": null,
   "id": "e803316c",
   "metadata": {},
   "outputs": [],
   "source": [
    "sleep(3)"
   ]
  },
  {
   "cell_type": "code",
   "execution_count": null,
   "id": "6538bed3",
   "metadata": {},
   "outputs": [],
   "source": [
    "login_button = driver.find_element(By.XPATH, '/html/body/div[2]/section/div[3]/div/div/div/div/form/div/div[4]/div/div/button')"
   ]
  },
  {
   "cell_type": "code",
   "execution_count": null,
   "id": "3bfb8eab",
   "metadata": {},
   "outputs": [],
   "source": [
    "login_button.click()"
   ]
  },
  {
   "cell_type": "code",
   "execution_count": null,
   "id": "ae2f6946",
   "metadata": {},
   "outputs": [],
   "source": [
    "close_add_button = driver.find_element(By.XPATH, '/html/body/div[1]/div[1]/div/a')"
   ]
  },
  {
   "cell_type": "code",
   "execution_count": null,
   "id": "4dd182f7",
   "metadata": {},
   "outputs": [],
   "source": [
    "close_add_button.click()"
   ]
  },
  {
   "cell_type": "code",
   "execution_count": null,
   "id": "92701215",
   "metadata": {},
   "outputs": [],
   "source": [
    "production_button = driver.find_element(By.XPATH, '/html/body/div[1]/div[3]/div[2]/div/div[4]/nav/ul/li[6]/a')"
   ]
  },
  {
   "cell_type": "code",
   "execution_count": null,
   "id": "d751cfaf",
   "metadata": {},
   "outputs": [],
   "source": [
    "production_button.click()"
   ]
  },
  {
   "cell_type": "code",
   "execution_count": null,
   "id": "613522f4",
   "metadata": {},
   "outputs": [],
   "source": [
    "sleep(0.5)"
   ]
  },
  {
   "cell_type": "code",
   "execution_count": null,
   "id": "59dcc1f6",
   "metadata": {},
   "outputs": [],
   "source": [
    "lote_generation = driver.find_element(By.XPATH, '/html/body/div[1]/div[3]/div[2]/div/div[4]/nav/ul/li[6]/ul/li[1]/a')"
   ]
  },
  {
   "cell_type": "code",
   "execution_count": null,
   "id": "65b63736",
   "metadata": {},
   "outputs": [],
   "source": [
    "lote_generation.click()"
   ]
  },
  {
   "cell_type": "code",
   "execution_count": null,
   "id": "98886c56",
   "metadata": {},
   "outputs": [],
   "source": [
    "sleep(2)"
   ]
  },
  {
   "cell_type": "code",
   "execution_count": null,
   "id": "83f85238",
   "metadata": {},
   "outputs": [],
   "source": [
    "empresa_lote = driver.find_element(By.ID, 'empresaLote')"
   ]
  },
  {
   "cell_type": "code",
   "execution_count": null,
   "id": "b1639ba3",
   "metadata": {},
   "outputs": [],
   "source": [
    "empresa_lote.click()"
   ]
  },
  {
   "cell_type": "code",
   "execution_count": null,
   "id": "af320f38",
   "metadata": {},
   "outputs": [],
   "source": [
    "all_option = driver.find_element(By.XPATH, '/html/body/form/div/div/table/tbody/tr/td/table/tbody/tr[2]/td[3]/select/option[12]')"
   ]
  },
  {
   "cell_type": "code",
   "execution_count": null,
   "id": "327cc01c",
   "metadata": {},
   "outputs": [],
   "source": [
    "all_option.click()"
   ]
  },
  {
   "cell_type": "code",
   "execution_count": null,
   "id": "5a867abd",
   "metadata": {},
   "outputs": [],
   "source": [
    "month_year = driver.find_element(By.ID, 'mesAno')"
   ]
  },
  {
   "cell_type": "code",
   "execution_count": null,
   "id": "92dc9d4f",
   "metadata": {},
   "outputs": [],
   "source": [
    "from datetime import datetime\n",
    "\n",
    "agora = datetime.now()\n",
    "mes_ano = f\"{agora.month:02d}/{agora.year}\".replace(\"/\", \"\")  # zero à esquerda no mês\n",
    "mes_ano = \"082025\" #TESTE COM A JULIA"
   ]
  },
  {
   "cell_type": "code",
   "execution_count": null,
   "id": "61d23622",
   "metadata": {},
   "outputs": [],
   "source": [
    "month_year.clear()\n",
    "month_year.click()\n",
    "sleep(1.5)\n",
    "for n in mes_ano:\n",
    "    sleep(1)\n",
    "    month_year.send_keys(int(n))"
   ]
  },
  {
   "cell_type": "code",
   "execution_count": null,
   "id": "ae63299d",
   "metadata": {},
   "outputs": [],
   "source": [
    "search = driver.find_element(By.ID, 'pesquisarGuia')"
   ]
  },
  {
   "cell_type": "code",
   "execution_count": null,
   "id": "6cb077e4",
   "metadata": {},
   "outputs": [],
   "source": [
    "search.click()"
   ]
  },
  {
   "cell_type": "markdown",
   "id": "314dd6cf",
   "metadata": {},
   "source": [
    "# Logica para achar o nome e o valor certo"
   ]
  },
  {
   "cell_type": "code",
   "execution_count": null,
   "id": "662fb6ca",
   "metadata": {},
   "outputs": [],
   "source": [
    "file_name = \"2025-10-05_15-39-06 - Julia_Moraes_De_Souza_Faria - R$ 799,70 - GTO.jpg\""
   ]
  },
  {
   "cell_type": "code",
   "execution_count": null,
   "id": "8ca6e7d6",
   "metadata": {},
   "outputs": [],
   "source": [
    "data = file_name.split(\" - \")\n",
    "data_name = data[1].replace(\"_\", \" \")\n",
    "data_price = data[2].split(\" \")[1]\n",
    "data_anexo = data[3].split(\".\")[0]\n",
    "\n",
    "NOME = data_name\n",
    "PRECO = data_price\n",
    "ANEXO = data_anexo"
   ]
  },
  {
   "cell_type": "code",
   "execution_count": null,
   "id": "70ef31cc",
   "metadata": {},
   "outputs": [],
   "source": [
    "print(NOME)\n",
    "print(PRECO)\n",
    "print(ANEXO)"
   ]
  },
  {
   "cell_type": "code",
   "execution_count": null,
   "id": "9b4c863b",
   "metadata": {},
   "outputs": [],
   "source": [
    "from selenium.webdriver.support.ui import WebDriverWait\n",
    "from selenium.webdriver.support import expected_conditions as EC"
   ]
  },
  {
   "cell_type": "code",
   "execution_count": null,
   "id": "7254b052",
   "metadata": {},
   "outputs": [],
   "source": [
    "\n",
    "wait = WebDriverWait(driver, 20)\n",
    "\n",
    "# Espera a tabela existir\n",
    "wait.until(EC.presence_of_element_located((By.ID, \"tabelaListagem\")))\n",
    "\n",
    "# Localiza a linha que atende às duas condições:\n",
    "# - td[4] contém um <a> com o texto do nome (normalizado)\n",
    "# - existe na mesma linha um <td> cujo texto seja exatamente o preço\n",
    "row_xpath = (\n",
    "    \"//table[@id='tabelaListagem']//tr[\"\n",
    "    \"  td[4]//a[normalize-space()=$nome] and \"\n",
    "    \"  .//td[normalize-space()=$preco]\"\n",
    "    \"]\"\n",
    ")\n",
    "\n",
    "# Selenium não tem binding nativo para variáveis no XPath, então interpolamos:\n",
    "row = driver.find_element(\n",
    "    By.XPATH,\n",
    "    row_xpath.replace(\"$nome\", f\"'{NOME}'\").replace(\"$preco\", f\"'{PRECO}'\")\n",
    ")\n",
    "\n",
    "# Agora pegue o link da coluna 4 e clique\n",
    "link = row.find_element(By.XPATH, \"td[4]//a\")\n",
    "driver.execute_script(\"arguments[0].scrollIntoView({block:'center'});\", link)\n",
    "\n",
    "try:\n",
    "    wait.until(EC.element_to_be_clickable(link)).click()\n",
    "except Exception:\n",
    "    # se overlay/interceptação atrapalhar, força via JS\n",
    "    driver.execute_script(\"arguments[0].click();\", link)\n"
   ]
  },
  {
   "cell_type": "code",
   "execution_count": null,
   "id": "2796f14a",
   "metadata": {},
   "outputs": [],
   "source": [
    "sleep(3)"
   ]
  },
  {
   "cell_type": "code",
   "execution_count": null,
   "id": "75d24f80",
   "metadata": {},
   "outputs": [],
   "source": [
    "rx_button = driver.find_element(By.ID, \"AnexarRx1\")\n",
    "gto_button = driver.find_element(By.ID, \"AnexarRx2\")"
   ]
  },
  {
   "cell_type": "code",
   "execution_count": null,
   "id": "936e94a2",
   "metadata": {},
   "outputs": [],
   "source": [
    "if ANEXO == \"GTO\":\n",
    "    gto_button.click()\n",
    "else:\n",
    "    print(\"Implementar o RX\")"
   ]
  },
  {
   "cell_type": "code",
   "execution_count": null,
   "id": "ae84594a",
   "metadata": {},
   "outputs": [],
   "source": [
    "from urllib.parse import urljoin\n",
    "from selenium.webdriver.common.by import By\n",
    "from selenium.webdriver.support.ui import WebDriverWait\n",
    "from selenium.webdriver.support import expected_conditions as EC\n",
    "\n",
    "wait = WebDriverWait(driver, 20)\n",
    "\n",
    "# acha o iframe do Thickbox\n",
    "iframe = wait.until(EC.presence_of_element_located((\n",
    "    By.CSS_SELECTOR, \"iframe#TB_iframeContent, iframe[src*='imagens_lote_guias.php']\"\n",
    ")))\n",
    "\n",
    "src = iframe.get_attribute(\"src\")  # pode vir relativo\n",
    "src_abs = urljoin(driver.current_url, src)\n",
    "print(\"SRC do iframe:\", src_abs)\n",
    "\n",
    "# navega direto na URL do iframe (fora de iframe, tela cheia)\n",
    "driver.get(src_abs)\n",
    "\n",
    "# ... agora você interage normalmente sem precisar de switch_to.frame(...)\n"
   ]
  },
  {
   "cell_type": "code",
   "execution_count": null,
   "id": "b0185a68",
   "metadata": {},
   "outputs": [],
   "source": [
    "botao = driver.find_element(By.ID, 'fileupload')"
   ]
  },
  {
   "cell_type": "code",
   "execution_count": null,
   "id": "7f77c7d8",
   "metadata": {},
   "outputs": [],
   "source": [
    "botao.send_keys(\"/caminho/absoluto/para/seu_arquivo.pdf\")\n"
   ]
  },
  {
   "cell_type": "code",
   "execution_count": null,
   "id": "e1e8f615",
   "metadata": {},
   "outputs": [],
   "source": []
  }
 ],
 "metadata": {
  "kernelspec": {
   "display_name": "guias-uniodonto-TVxJupUh",
   "language": "python",
   "name": "python3"
  },
  "language_info": {
   "codemirror_mode": {
    "name": "ipython",
    "version": 3
   },
   "file_extension": ".py",
   "mimetype": "text/x-python",
   "name": "python",
   "nbconvert_exporter": "python",
   "pygments_lexer": "ipython3",
   "version": "3.13.7"
  }
 },
 "nbformat": 4,
 "nbformat_minor": 5
}
